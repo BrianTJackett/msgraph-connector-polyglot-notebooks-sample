{
 "cells": [
  {
   "cell_type": "markdown",
   "metadata": {},
   "source": [
    "Steps\n",
    "- Load settings from file\n",
    "- Install / update Microsoft Graph PowerShell SDK (if needed)\n",
    "- Authenticate to Microsoft Graph\n",
    "- Create connection\n",
    "- Register schema\n",
    "- Ingest items\n",
    "- Add activities\n",
    "- Update permissions (if needed)"
   ]
  },
  {
   "cell_type": "code",
   "execution_count": 1,
   "metadata": {
    "dotnet_interactive": {
     "language": "pwsh"
    },
    "polyglot_notebook": {
     "kernelName": "pwsh"
    }
   },
   "outputs": [],
   "source": [
    "$settings = get-content .\\appsettings.json | ConvertFrom-Json\n",
    "\n",
    "$tenantId = $settings.tenantId\n",
    "$clientId = $settings.clientId\n",
    "$connectionId = $settings.connectionId\n",
    "$connectionName = $settings.connectionName\n",
    "$connectionDescription = $settings.connectionDescription\n",
    "$certname = $settings.certificateName\n"
   ]
  },
  {
   "cell_type": "code",
   "execution_count": 2,
   "metadata": {
    "dotnet_interactive": {
     "language": "pwsh"
    },
    "polyglot_notebook": {
     "kernelName": "pwsh"
    }
   },
   "outputs": [],
   "source": [
    "$cert = Get-ChildItem -Path \"Cert:\\CurrentUser\\My\" | Where-Object {$_.Subject -Match \"$certname\"}\n",
    "\n",
    "if(!$cert)\n",
    "{\n",
    "    # generate a self-signed certificate \n",
    "    $cert = New-SelfSignedCertificate -Subject \"CN=$certname\" -CertStoreLocation \"Cert:\\CurrentUser\\My\" -KeyExportPolicy Exportable -KeySpec Signature -KeyLength 2048 -KeyAlgorithm RSA -HashAlgorithm SHA256\n",
    "    Export-Certificate -Cert $cert -FilePath \"C:\\scratch\\$certname.cer\"   ## Specify your preferred location\n",
    "\n",
    "    # manually upload certificate to Entra ID application as a credential\n",
    "}"
   ]
  },
  {
   "cell_type": "code",
   "execution_count": null,
   "metadata": {
    "dotnet_interactive": {
     "language": "pwsh"
    },
    "polyglot_notebook": {
     "kernelName": "pwsh"
    }
   },
   "outputs": [],
   "source": [
    "Export-Certificate -Cert $cert -FilePath \"C:\\scratch\\$certname.cer\"   ## Specify your preferred location"
   ]
  },
  {
   "cell_type": "markdown",
   "metadata": {},
   "source": [
    "Install Microsoft Graph PowerShell SDK (if needed)"
   ]
  },
  {
   "cell_type": "code",
   "execution_count": null,
   "metadata": {
    "dotnet_interactive": {
     "language": "pwsh"
    },
    "polyglot_notebook": {
     "kernelName": "pwsh"
    }
   },
   "outputs": [],
   "source": [
    "#Install-Module -Name Microsoft.Graph\n",
    "#Install-Module -Name Microsoft.Graph.Beta\n",
    "\n",
    "#Update-Module -Name Microsoft.Graph\n",
    "#Update-Module -Name Microsoft.Graph.Beta"
   ]
  },
  {
   "cell_type": "markdown",
   "metadata": {},
   "source": [
    "Authenticate to Microsoft Graph"
   ]
  },
  {
   "cell_type": "code",
   "execution_count": 3,
   "metadata": {
    "dotnet_interactive": {
     "language": "pwsh"
    },
    "polyglot_notebook": {
     "kernelName": "pwsh"
    }
   },
   "outputs": [],
   "source": [
    "Connect-MgGraph -TenantId $tenantId -ClientId $clientId -CertificateThumbprint $($cert.Thumbprint) -NoWelcome"
   ]
  },
  {
   "cell_type": "markdown",
   "metadata": {},
   "source": [
    "Create connection"
   ]
  },
  {
   "cell_type": "code",
   "execution_count": null,
   "metadata": {
    "dotnet_interactive": {
     "language": "pwsh"
    },
    "polyglot_notebook": {
     "kernelName": "pwsh"
    }
   },
   "outputs": [],
   "source": [
    "New-MgExternalConnection -Id $connectionId -Name $connectionName -Description $connectionDescription"
   ]
  },
  {
   "cell_type": "markdown",
   "metadata": {},
   "source": [
    "Register schema"
   ]
  },
  {
   "cell_type": "code",
   "execution_count": null,
   "metadata": {
    "dotnet_interactive": {
     "language": "pwsh"
    },
    "polyglot_notebook": {
     "kernelName": "pwsh"
    }
   },
   "outputs": [],
   "source": [
    "$properties = @\"\n",
    "{\n",
    "    \"baseType\": \"microsoft.graph.externalItem\",\n",
    "    \"properties\": [\n",
    "        {\n",
    "            \"name\": \"id\",\n",
    "            \"type\": \"string\",\n",
    "            \"isSearchable\": false,\n",
    "            \"isRetrievable\": true,\n",
    "            \"isQueryable\": false,\n",
    "            \"isRefinable\": false,\n",
    "            \"labels\": [],\n",
    "            \"aliases\": []\n",
    "        },\n",
    "        {\n",
    "            \"name\": \"title\",\n",
    "            \"type\": \"string\",\n",
    "            \"isSearchable\": true,\n",
    "            \"isRetrievable\": true,\n",
    "            \"isQueryable\": true,\n",
    "            \"isRefinable\": false,\n",
    "            \"labels\": [\n",
    "                \"title\"\n",
    "            ],\n",
    "            \"aliases\": []\n",
    "        },\n",
    "        {\n",
    "            \"name\": \"extension\",\n",
    "            \"type\": \"string\",\n",
    "            \"isSearchable\": false,\n",
    "            \"isRetrievable\": true,\n",
    "            \"isQueryable\": true,\n",
    "            \"isRefinable\": true,\n",
    "            \"labels\": [],\n",
    "            \"aliases\": []\n",
    "        },\n",
    "        {\n",
    "            \"name\": \"createdBy\",\n",
    "            \"type\": \"string\",\n",
    "            \"isSearchable\": false,\n",
    "            \"isRetrievable\": true,\n",
    "            \"isQueryable\": true,\n",
    "            \"isRefinable\": true,\n",
    "            \"labels\": [\n",
    "                \"createdBy\"\n",
    "            ],\n",
    "            \"aliases\": []\n",
    "        },\n",
    "        {\n",
    "            \"name\": \"createdDateTime\",\n",
    "            \"type\": \"dateTime\",\n",
    "            \"isSearchable\": false,\n",
    "            \"isRetrievable\": true,\n",
    "            \"isQueryable\": true,\n",
    "            \"isRefinable\": false,\n",
    "            \"labels\": [\n",
    "                \"createdDateTime\"\n",
    "            ],\n",
    "            \"aliases\": []\n",
    "        },\n",
    "        {\n",
    "            \"name\": \"lastModifiedBy\",\n",
    "            \"type\": \"string\",\n",
    "            \"isSearchable\": false,\n",
    "            \"isRetrievable\": true,\n",
    "            \"isQueryable\": true,\n",
    "            \"isRefinable\": false,\n",
    "            \"labels\": [\n",
    "                \"lastModifiedBy\"\n",
    "            ],\n",
    "            \"aliases\": []\n",
    "        },\n",
    "        {\n",
    "            \"name\": \"lastModifiedDate\",\n",
    "            \"type\": \"dateTime\",\n",
    "            \"isSearchable\": false,\n",
    "            \"isRetrievable\": true,\n",
    "            \"isQueryable\": true,\n",
    "            \"isRefinable\": true,\n",
    "            \"labels\": [\n",
    "                \"lastModifiedDateTime\"\n",
    "            ],\n",
    "            \"aliases\": []\n",
    "        },\n",
    "        {\n",
    "            \"name\": \"url\",\n",
    "            \"type\": \"string\",\n",
    "            \"isSearchable\": false,\n",
    "            \"isRetrievable\": true,\n",
    "            \"isQueryable\": false,\n",
    "            \"isRefinable\": false,\n",
    "            \"labels\": [\n",
    "                \"url\"\n",
    "            ],\n",
    "            \"aliases\": []\n",
    "        },\n",
    "        {\n",
    "            \"name\": \"description\",\n",
    "            \"type\": \"string\",\n",
    "            \"isSearchable\": true,\n",
    "            \"isRetrievable\": true,\n",
    "            \"isQueryable\": false,\n",
    "            \"isRefinable\": false,\n",
    "            \"labels\": [],\n",
    "            \"aliases\": []\n",
    "        },\n",
    "        {\n",
    "            \"name\": \"authors\",\n",
    "            \"type\": \"stringCollection\",\n",
    "            \"isSearchable\": true,\n",
    "            \"isRetrievable\": true,\n",
    "            \"isQueryable\": true,\n",
    "            \"isRefinable\": false,\n",
    "            \"labels\": [\n",
    "                \"authors\"\n",
    "            ],\n",
    "            \"aliases\": []\n",
    "        },\n",
    "        {\n",
    "            \"type\": \"String\",\n",
    "            \"name\": \"iconUrl\",\n",
    "            \"isSearchable\": false,\n",
    "            \"isQueryable\": false,\n",
    "            \"isRetrievable\": true,\n",
    "            \"isRefinable\": false,\n",
    "            \"labels\": [\n",
    "                \"iconUrl\"\n",
    "            ],\n",
    "            \"aliases\": []\n",
    "        },\n",
    "        {\n",
    "            \"type\": \"String\",\n",
    "            \"name\": \"imageUrl\",\n",
    "            \"isSearchable\": false,\n",
    "            \"isQueryable\": false,\n",
    "            \"isRetrievable\": true,\n",
    "            \"isRefinable\": false,\n",
    "            \"labels\": [],\n",
    "            \"aliases\": []\n",
    "        },\n",
    "        {\n",
    "            \"type\": \"String\",\n",
    "            \"name\": \"containerName\",\n",
    "            \"isSearchable\": false,\n",
    "            \"isQueryable\": false,\n",
    "            \"isRetrievable\": true,\n",
    "            \"isRefinable\": false,\n",
    "            \"labels\": [\n",
    "                \"containerName\"\n",
    "            ],\n",
    "            \"aliases\": []\n",
    "        },\n",
    "        {\n",
    "            \"type\": \"String\",\n",
    "            \"name\": \"containerUrl\",\n",
    "            \"isSearchable\": false,\n",
    "            \"isQueryable\": false,\n",
    "            \"isRetrievable\": true,\n",
    "            \"isRefinable\": false,\n",
    "            \"labels\": [\n",
    "                \"containerUrl\"\n",
    "            ],\n",
    "            \"aliases\": []\n",
    "        }\n",
    "    ]\n",
    "}\n",
    "\"@\n",
    "\n",
    "# issues running this command so falling back to manual Graph request following\n",
    "#$propertiesBody = $properties | ConvertFrom-Json\n",
    "#Update-MgExternalConnectionSchema -ExternalConnectionId $connectionId -properties $propertiesBody.properties -BaseType $propertiesBody.baseType\n",
    "\n",
    "Invoke-MgGraphRequest -Method PATCH -Uri \"/v1.0/external/connections/$connectionId/schema\" -Body $properties\n"
   ]
  },
  {
   "cell_type": "markdown",
   "metadata": {},
   "source": [
    "Ingest items"
   ]
  },
  {
   "cell_type": "code",
   "execution_count": null,
   "metadata": {
    "dotnet_interactive": {
     "language": "pwsh"
    },
    "polyglot_notebook": {
     "kernelName": "pwsh"
    }
   },
   "outputs": [],
   "source": []
  },
  {
   "cell_type": "markdown",
   "metadata": {},
   "source": [
    "Add activities"
   ]
  },
  {
   "cell_type": "code",
   "execution_count": null,
   "metadata": {
    "dotnet_interactive": {
     "language": "pwsh"
    },
    "polyglot_notebook": {
     "kernelName": "pwsh"
    }
   },
   "outputs": [],
   "source": []
  },
  {
   "cell_type": "markdown",
   "metadata": {},
   "source": [
    "Update permissions (ACL = access control list)"
   ]
  },
  {
   "cell_type": "code",
   "execution_count": null,
   "metadata": {
    "dotnet_interactive": {
     "language": "pwsh"
    },
    "polyglot_notebook": {
     "kernelName": "pwsh"
    }
   },
   "outputs": [],
   "source": []
  }
 ],
 "metadata": {
  "kernelspec": {
   "display_name": ".NET (C#)",
   "language": "C#",
   "name": ".net-csharp"
  },
  "language_info": {
   "name": "polyglot-notebook"
  },
  "polyglot_notebook": {
   "kernelInfo": {
    "defaultKernelName": "csharp",
    "items": [
     {
      "aliases": [],
      "name": "csharp"
     },
     {
      "aliases": [],
      "languageName": "pwsh",
      "name": "pwsh"
     }
    ]
   }
  }
 },
 "nbformat": 4,
 "nbformat_minor": 2
}
